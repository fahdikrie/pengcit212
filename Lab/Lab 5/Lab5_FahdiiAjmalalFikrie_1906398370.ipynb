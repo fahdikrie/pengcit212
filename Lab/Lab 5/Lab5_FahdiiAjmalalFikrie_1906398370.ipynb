{
 "cells": [
  {
   "cell_type": "code",
   "execution_count": null,
   "metadata": {},
   "outputs": [],
   "source": [
    "References:\n",
    "1. Panduan Lab 5"
   ]
  },
  {
   "cell_type": "code",
   "execution_count": null,
   "metadata": {},
   "outputs": [],
   "source": [
    "import matplotlib.pyplot as plt\n",
    "import numpy as np\n",
    "import copy\n",
    "import cv2\n",
    "\n",
    "from scipy import fftpack as fp\n",
    "from skimage import color\n",
    "from skimage import filters\n",
    "from skimage import io\n",
    "from skimage import morphology\n",
    "from skimage import util"
   ]
  },
  {
   "cell_type": "markdown",
   "metadata": {},
   "source": [
    "## **1. [50] Thresholding**\n",
    "\n",
    "### Terdapat suatu gambar tools.jpg yang terdiri dari beberapa peralatan yang berbeda. Lakukan pengolahan citra tersebut dalam citra grayscale.\n",
    "\n",
    "### a. [10] Lakukan Simple Global Thresholding pada citra tersebut\n",
    "\n",
    "hint: gunakan library OpenCV\n",
    "\n",
    "cv2.threshold(img,x,y,cv.THRESH_BINARY)\n",
    "\n",
    "nilai x dan y berada dalam range nilai citranya\n",
    "\n",
    "Misalnya: cv2.threshold(img,127,255,cv.THRESH_BINARY)\n"
   ]
  },
  {
   "cell_type": "code",
   "execution_count": null,
   "metadata": {},
   "outputs": [],
   "source": []
  },
  {
   "cell_type": "markdown",
   "metadata": {},
   "source": [
    "### b. [10] Lakukan Otsu’s Thresholding (beserta histogramnya) pada citra tersebut"
   ]
  },
  {
   "cell_type": "code",
   "execution_count": null,
   "metadata": {},
   "outputs": [],
   "source": []
  },
  {
   "cell_type": "markdown",
   "metadata": {},
   "source": [
    "### c. [15] Jelaskan perbedaan hasil dari simple global thresholding pada (a) dan Otsu’s Thresholding pada (b) dan alasan mengapa perbedaan tersebut bisa terjadi."
   ]
  },
  {
   "cell_type": "markdown",
   "metadata": {},
   "source": [
    "### d. [15] Tentukan metode mana yang lebih optimal untuk citra ini dan mengapa?"
   ]
  },
  {
   "cell_type": "markdown",
   "metadata": {},
   "source": [
    "## 2. **[50] Clustering**\n",
    "\n",
    "### Diberikan sebuah citra mountain.jpg.\n",
    "\n",
    "### a. [25] Gunakan algoritma SLIC untuk melakukan segmentasi, lakukan percobaan untuk 10, 50, dan 100 segmen."
   ]
  },
  {
   "cell_type": "code",
   "execution_count": null,
   "metadata": {},
   "outputs": [],
   "source": []
  },
  {
   "cell_type": "markdown",
   "metadata": {},
   "source": [
    "### b. [10] Apa yang dapat disimpulkan dari percobaan pada (a)? Apakah pengaruh berbagai jumlah segmen terhadap hasil segmentasi? Jumlah segmen berapa yang menurut Anda memberikan hasil paling baik pada citra ini? Berikan penjelasannya."
   ]
  },
  {
   "cell_type": "markdown",
   "metadata": {},
   "source": [
    "### c. [15] Setelah memilih jumlah segmen yang paling baik pada soal 2b, visualisasikan citra dalam bentuk penyeragaman piksel untuk setiap superpiksel yang telah disegmentasi. Gunakan nilai median untuk memilih piksel yang dipilih untuk setiap superpiksel."
   ]
  },
  {
   "cell_type": "code",
   "execution_count": null,
   "metadata": {},
   "outputs": [],
   "source": []
  }
 ],
 "metadata": {
  "language_info": {
   "name": "python"
  },
  "orig_nbformat": 4
 },
 "nbformat": 4,
 "nbformat_minor": 2
}
