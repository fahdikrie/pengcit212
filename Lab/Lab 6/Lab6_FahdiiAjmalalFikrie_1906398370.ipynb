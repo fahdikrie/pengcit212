{
 "cells": [
  {
   "cell_type": "markdown",
   "metadata": {},
   "source": [
    "References:\n",
    "1. Panduan Lab 5"
   ]
  },
  {
   "cell_type": "code",
   "execution_count": 14,
   "metadata": {},
   "outputs": [],
   "source": [
    "import matplotlib.pyplot as plt\n",
    "import numpy as np\n",
    "import copy\n",
    "import cv2\n",
    "import os\n",
    "\n",
    "from typing import Union\n",
    "from scipy import fftpack as fp\n",
    "from skimage import color\n",
    "from skimage import filters\n",
    "from skimage import io\n",
    "from skimage import morphology\n",
    "from skimage import util\n",
    "from skimage.segmentation import slic\n",
    "from skimage.segmentation import mark_boundaries"
   ]
  },
  {
   "cell_type": "markdown",
   "metadata": {},
   "source": [
    "## **1. [30] Image Histogram**\n",
    "\n",
    "### Diberikan dua buah kelas citra yaitu kelas hutan dan juga lautan yang terdiri dari masing-masing 4 citra untuk kedua kelas. Lakukan pengklasifikasian kedua buah citra ke dalam kelas yang sesuai dengan menggunakan fitur image histogramnya.\n",
    "\n",
    "### a. [20] Buatlah method predict yang menerima parameter nama_file dan mengembalikan output “hutan” untuk citra yang tergolong sebagai hutan dan lautan untuk citra yang tergolong sebagai lautan. Method predict yang dibuat wajib menggunakan fitur berupa image histogram. Pengecekan dan ekstraksi fitur yang dilakukan pada setiap citra harus di automasi, tidak boleh di-hardcode untuk tiap citra."
   ]
  },
  {
   "cell_type": "code",
   "execution_count": 17,
   "metadata": {},
   "outputs": [
    {
     "name": "stdout",
     "output_type": "stream",
     "text": [
      "image Tugas Lab 6 Images/histogram/sea2.jpg predicted as lautan\n",
      "image Tugas Lab 6 Images/histogram/forest3.jpg predicted as hutan\n",
      "image Tugas Lab 6 Images/histogram/forest2.jpg predicted as hutan\n",
      "image Tugas Lab 6 Images/histogram/sea3.jpg predicted as lautan\n",
      "image Tugas Lab 6 Images/histogram/sea1.jpg predicted as lautan\n",
      "image Tugas Lab 6 Images/histogram/forest1.jpg predicted as hutan\n",
      "image Tugas Lab 6 Images/histogram/sea4.jpg predicted as lautan\n",
      "image Tugas Lab 6 Images/histogram/.DS_Store might be corrupted or not an image file\n",
      "image Tugas Lab 6 Images/histogram/forest4.jpg predicted as hutan\n"
     ]
    }
   ],
   "source": [
    "def predict(nama_file: str) -> Union[str, None]:\n",
    "    \"\"\"Method untuk memprediksi gambar adalah hutan/lautan\"\"\"\n",
    "    try:\n",
    "        img = io.imread(nama_file, plugin='matplotlib')\n",
    "        frequency_count = np.bincount(img.flatten())\n",
    "        cum_sum = np.cumsum(frequency_count)\n",
    "    except (IOError, SyntaxError) as e:\n",
    "        return None\n",
    "\n",
    "    # lebih banyak intensitas rendah, prediksi sebagai hutan\n",
    "    if cum_sum[127] > (cum_sum[-1] - cum_sum[127]):\n",
    "        return 'hutan'\n",
    "    else:\n",
    "        return 'lautan'\n",
    "\n",
    "import os\n",
    "folder = \"Tugas Lab 6 Images/histogram\"\n",
    "for filename in os.listdir(folder):\n",
    "    filename = f'{folder}/{filename}'\n",
    "    prediction = predict(filename)\n",
    "    if prediction:\n",
    "        print(f'image {filename} predicted as {prediction}')\n",
    "    else:\n",
    "        print(f'image {filename} might be corrupted or not an image file')"
   ]
  },
  {
   "cell_type": "markdown",
   "metadata": {},
   "source": [
    "### b. [10] Jelaskan fitur yang telah Anda buat pada bagian a dan alasan Anda memilih fitur tersebut."
   ]
  },
  {
   "cell_type": "markdown",
   "metadata": {},
   "source": []
  },
  {
   "cell_type": "markdown",
   "metadata": {},
   "source": [
    "## **2. [30] Hough Transformation**\n",
    "\n",
    "### Diberikan dua buah kelas citra yaitu kelas segitiga siku siku dan juga segitiga sama sisi yang terdiri dari masing-masing 4 citra untuk kedua kelas. (Asumsikan posisi segitiga yang mungkin hanya sesuai citra yang diberikan pada dataset, tidak ada miring 10° atau semacamnya)\n",
    "\n",
    "### a. [20] Gunakan hasil hough transformation yang telah didapatkan sebagai fitur untuk mengklasifikasikan apakah citra tersebut merupakan segitiga siku siku atau segitiga sama sisi. Manfaatkan variabel theta yang ada pada template lab untuk menentukannya. Anda dapat menggunakan cv2.HoughLines seperti yang dijabarkan pada tutorial. (Hint: Cek dalam skala apa theta dikembalikan oleh fungsi HoughLines)"
   ]
  },
  {
   "cell_type": "code",
   "execution_count": null,
   "metadata": {},
   "outputs": [],
   "source": []
  },
  {
   "cell_type": "markdown",
   "metadata": {},
   "source": [
    "### b. [10] Jelaskan lebih detail tentang parameter yang anda gunakan sebagai argumen dan fitur yang Anda ekstraksi pada bagian a dan."
   ]
  },
  {
   "cell_type": "code",
   "execution_count": null,
   "metadata": {},
   "outputs": [],
   "source": []
  },
  {
   "cell_type": "markdown",
   "metadata": {},
   "source": [
    "## **3. [40] Template Matching**\n",
    "\n",
    "### Diberikan citra ‘pertandingan 1.jpg’, ‘pertandingan 2.jpg’ dan ‘bola.jpg’\n",
    "\n",
    "### a. [15] Lakukan dan tampilkan hasil template matching dengan berbagai threshold pada kedua gambar! Anda bisa menggunakan library OpenCV/Skimage/lainnya."
   ]
  },
  {
   "cell_type": "code",
   "execution_count": null,
   "metadata": {},
   "outputs": [],
   "source": []
  },
  {
   "cell_type": "markdown",
   "metadata": {},
   "source": [
    "### b. [15] Berdasarkan eksplorasi di poin a, perbedaan apa yang Anda temukan? Mengapa perbedaan ini terjadi?"
   ]
  },
  {
   "cell_type": "code",
   "execution_count": null,
   "metadata": {},
   "outputs": [],
   "source": []
  },
  {
   "cell_type": "markdown",
   "metadata": {},
   "source": [
    "### c. [10] Menurut Anda, apakah kelebihan dan kekurangan metode fitur ekstraksi ini? Apakah untuk kasus template matching untuk bola pada gambar pertandingan sepak bola cocok?"
   ]
  }
 ],
 "metadata": {
  "interpreter": {
   "hash": "949777d72b0d2535278d3dc13498b2535136f6dfe0678499012e853ee9abcab1"
  },
  "kernelspec": {
   "display_name": "Python 3.9.7 64-bit",
   "language": "python",
   "name": "python3"
  },
  "language_info": {
   "codemirror_mode": {
    "name": "ipython",
    "version": 3
   },
   "file_extension": ".py",
   "mimetype": "text/x-python",
   "name": "python",
   "nbconvert_exporter": "python",
   "pygments_lexer": "ipython3",
   "version": "3.9.7"
  },
  "orig_nbformat": 4
 },
 "nbformat": 4,
 "nbformat_minor": 2
}
