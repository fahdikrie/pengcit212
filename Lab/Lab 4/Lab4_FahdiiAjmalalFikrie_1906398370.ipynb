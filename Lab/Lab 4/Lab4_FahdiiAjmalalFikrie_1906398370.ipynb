{
 "cells": [
  {
   "cell_type": "markdown",
   "metadata": {},
   "source": [
    "References:\n",
    "1. Panduan Lab 4"
   ]
  },
  {
   "cell_type": "code",
   "execution_count": 1,
   "metadata": {},
   "outputs": [],
   "source": [
    "import matplotlib.pyplot as plt\n",
    "import numpy as np\n",
    "import copy\n",
    "import cv2\n",
    "import io\n",
    "\n",
    "from scipy import fftpack as fp\n",
    "from skimage import color\n",
    "from skimage import filters\n",
    "from skimage import io\n",
    "from skimage import morphology\n",
    "from skimage import util"
   ]
  },
  {
   "cell_type": "markdown",
   "metadata": {},
   "source": [
    "## **1. [50] Noise Removal**\n",
    "\n",
    "### Diberikan sebuah citra xray bernama noisy_xray.png. Sayangnya citra ini memiliki noise berupa bintik-bintik putih yang mengganggu di hasil x-ray\n",
    "\n",
    "### a. [20] Bersihkan noise pada gambar di atas menggunakan morphology operator!"
   ]
  },
  {
   "cell_type": "code",
   "execution_count": null,
   "metadata": {},
   "outputs": [],
   "source": []
  },
  {
   "cell_type": "markdown",
   "metadata": {},
   "source": [
    "### b. [15] Ceritakan mengapa Anda mengerjakan poin a dengan cara tersebut!"
   ]
  },
  {
   "cell_type": "code",
   "execution_count": null,
   "metadata": {},
   "outputs": [],
   "source": []
  },
  {
   "cell_type": "markdown",
   "metadata": {},
   "source": [
    "### c. [15] Sebelumnya Anda pernah melakukan noise removal dengan menggunakan median dan mean filter di lab 1. Jabarkan bagaimana perbedaan pada hasilnya jika dibandingkan dengan noise removal di lab 4 ini?"
   ]
  },
  {
   "cell_type": "code",
   "execution_count": null,
   "metadata": {},
   "outputs": [],
   "source": []
  },
  {
   "cell_type": "markdown",
   "metadata": {},
   "source": [
    "## 2. [50] Pesan rahasia\n",
    "\n",
    "### Anda mendapat pesan rahasia yang terdiri dari dua citra. Untuk dapat membaca pesan ini, Anda harus menerapkan morphological image processing pada masing-masing citra, kemudian menggabungkannya menjadi satu. Berikut petunjuknya.\n",
    "\n",
    "### a. [30] Lakukan dilatasi terhadap citra misteri1.jpg dan misteri2.jpg dengan kernel yang tepat. Hanya ada satu pasang kernel yang benar untuk membuka pesan rahasia. Berikut adalah pilihan kernel yang bisa Anda coba:\n",
    "\n",
    "- {diamond(25), diamond(17)}\n",
    "- {rectangle(12, 25), rectangle(20, 10)}\n",
    "- {rectangle(46, 1), rectangle(1, 44)}\n",
    "- {disk(13), disk(19)}\n",
    "\n"
   ]
  },
  {
   "cell_type": "code",
   "execution_count": null,
   "metadata": {},
   "outputs": [],
   "source": []
  },
  {
   "cell_type": "markdown",
   "metadata": {},
   "source": [
    "### b. [13] Gabungkan kedua citra hasil dilatasi poin a! Jika kernel yang Anda pilih benar, pesan rahasia akan terlihat."
   ]
  },
  {
   "cell_type": "code",
   "execution_count": null,
   "metadata": {},
   "outputs": [],
   "source": []
  },
  {
   "cell_type": "markdown",
   "metadata": {},
   "source": [
    "### c. [7] Tuliskan pesan rahasia yang Anda dapatkan!"
   ]
  },
  {
   "cell_type": "code",
   "execution_count": null,
   "metadata": {},
   "outputs": [],
   "source": []
  }
 ],
 "metadata": {
  "interpreter": {
   "hash": "949777d72b0d2535278d3dc13498b2535136f6dfe0678499012e853ee9abcab1"
  },
  "kernelspec": {
   "display_name": "Python 3.9.7 64-bit",
   "name": "python3"
  },
  "language_info": {
   "codemirror_mode": {
    "name": "ipython",
    "version": 3
   },
   "file_extension": ".py",
   "mimetype": "text/x-python",
   "name": "python",
   "nbconvert_exporter": "python",
   "pygments_lexer": "ipython3",
   "version": "3.9.7"
  },
  "orig_nbformat": 4
 },
 "nbformat": 4,
 "nbformat_minor": 2
}
