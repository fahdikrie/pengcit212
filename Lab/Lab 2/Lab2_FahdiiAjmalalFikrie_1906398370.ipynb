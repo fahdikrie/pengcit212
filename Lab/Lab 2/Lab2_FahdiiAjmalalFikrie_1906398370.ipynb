{
 "cells": [
  {
   "cell_type": "markdown",
   "source": [
    "References:\n"
   ],
   "metadata": {}
  },
  {
   "cell_type": "code",
   "execution_count": 742,
   "source": [
    "import matplotlib.pyplot as plt\n",
    "import numpy as np\n",
    "import io\n",
    "\n",
    "from skimage import color\n",
    "from skimage import exposure\n",
    "from skimage import filters\n",
    "from skimage import io\n",
    "from skimage import morphology\n",
    "from skimage import util"
   ],
   "outputs": [],
   "metadata": {}
  }
 ],
 "metadata": {
  "orig_nbformat": 4,
  "language_info": {
   "name": "python",
   "version": "3.9.6",
   "mimetype": "text/x-python",
   "codemirror_mode": {
    "name": "ipython",
    "version": 3
   },
   "pygments_lexer": "ipython3",
   "nbconvert_exporter": "python",
   "file_extension": ".py"
  },
  "kernelspec": {
   "name": "python3",
   "display_name": "Python 3.9.6 64-bit"
  },
  "interpreter": {
   "hash": "4cd7ab41f5fca4b9b44701077e38c5ffd31fe66a6cab21e0214b68d958d0e462"
  }
 },
 "nbformat": 4,
 "nbformat_minor": 2
}